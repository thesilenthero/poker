{
 "cells": [
  {
   "cell_type": "code",
   "execution_count": 6,
   "metadata": {},
   "outputs": [],
   "source": [
    "import poker as pk\n",
    "from poker import *\n",
    "import numpy as np\n",
    "import pandas as pd\n",
    "\n",
    "from collections import defaultdict\n",
    "\n",
    "from itertools import combinations"
   ]
  },
  {
   "cell_type": "code",
   "execution_count": 7,
   "metadata": {},
   "outputs": [],
   "source": [
    "from poker.hand_lookup import create_hand_lookup"
   ]
  },
  {
   "cell_type": "code",
   "execution_count": 8,
   "metadata": {},
   "outputs": [],
   "source": [
    "hands_table = create_hand_lookup()"
   ]
  },
  {
   "cell_type": "code",
   "execution_count": 13,
   "metadata": {},
   "outputs": [
    {
     "name": "stdout",
     "output_type": "stream",
     "text": [
      "defaultdict(<class 'int'>, {'(Ks, Kh)': 83, '(5c, 5d)': 17})\n"
     ]
    }
   ],
   "source": [
    "scores = defaultdict(int)\n",
    "\n",
    "for i in range(100):\n",
    "    deck = Deck()\n",
    "    h1 = deck.deal(\"Ks\"), deck.deal(\"Kh\")\n",
    "    h2 = deck.deal(\"5c\"), deck.deal(\"5d\")\n",
    "    board = deck.deal(5)\n",
    "    \n",
    "    h1_score = rank_hand(h1, board)\n",
    "    h2_score = rank_hand(h2, board)\n",
    "    \n",
    "    if h1_score['rank'] < h2_score['rank']:\n",
    "        scores[str(h1)] += 1\n",
    "        \n",
    "    elif h1_score['rank'] > h2_score['rank']:\n",
    "        scores[str(h2)] += 1\n",
    "        \n",
    "    else:\n",
    "        scores['draw'] += 1\n",
    "        \n",
    "    print(i)\n",
    "        \n",
    "print(scores)\n"
   ]
  }
 ],
 "metadata": {
  "kernelspec": {
   "display_name": "Python 3",
   "language": "python",
   "name": "python3"
  },
  "language_info": {
   "codemirror_mode": {
    "name": "ipython",
    "version": 3
   },
   "file_extension": ".py",
   "mimetype": "text/x-python",
   "name": "python",
   "nbconvert_exporter": "python",
   "pygments_lexer": "ipython3",
   "version": "3.7.1"
  }
 },
 "nbformat": 4,
 "nbformat_minor": 2
}
